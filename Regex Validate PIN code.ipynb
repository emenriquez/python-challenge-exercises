{
 "cells": [
  {
   "cell_type": "markdown",
   "metadata": {},
   "source": [
    "# Regex Validate PIN code\n",
    "\n",
    "ATM machines allow 4 or 6 digit PIN codes and PIN codes cannot contain anything but exactly 4 digits or exactly 6 digits.\n",
    "\n",
    "### Problem Statement\n",
    "\n",
    "If the function is passed a valid PIN string, return true, else return false.\n",
    "\n",
    "eg:\n",
    "\n",
    "validate_pin(\"1234\") == True\n",
    "validate_pin(\"12345\") == False\n",
    "validate_pin(\"a234\") == False"
   ]
  },
  {
   "cell_type": "code",
   "execution_count": 1,
   "metadata": {
    "collapsed": true
   },
   "outputs": [],
   "source": [
    "def validate_pin(pin):\n",
    "    try:\n",
    "        int(pin) # if pin is not made up of only numbers, this will return False\n",
    "        if len(pin) == 4 or len(pin) == 6: # Check if length is 4  or 6 digits\n",
    "            return True\n",
    "        else:\n",
    "            return False\n",
    "    except:\n",
    "        return False"
   ]
  },
  {
   "cell_type": "markdown",
   "metadata": {},
   "source": [
    "### Test"
   ]
  },
  {
   "cell_type": "code",
   "execution_count": 6,
   "metadata": {},
   "outputs": [
    {
     "name": "stdout",
     "output_type": "stream",
     "text": [
      "PIN number 1234 Valid? : True\n",
      "PIN number 12345 Valid? : False\n",
      "PIN number 12346 Valid? : True\n",
      "PIN number B234 Valid? : False\n"
     ]
    }
   ],
   "source": [
    "print('PIN number {0} Valid? : {1}'.format('1234', validate_pin('1234')))\n",
    "print('PIN number {0} Valid? : {1}'.format('12345', validate_pin('12345')))\n",
    "print('PIN number {0} Valid? : {1}'.format('12346', validate_pin('123456')))\n",
    "print('PIN number {0} Valid? : {1}'.format('B234', validate_pin('B234')))"
   ]
  }
 ],
 "metadata": {
  "kernelspec": {
   "display_name": "Python 3",
   "language": "python",
   "name": "python3"
  },
  "language_info": {
   "codemirror_mode": {
    "name": "ipython",
    "version": 3
   },
   "file_extension": ".py",
   "mimetype": "text/x-python",
   "name": "python",
   "nbconvert_exporter": "python",
   "pygments_lexer": "ipython3",
   "version": "3.6.2"
  }
 },
 "nbformat": 4,
 "nbformat_minor": 2
}
