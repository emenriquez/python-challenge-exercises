{
  "nbformat": 4,
  "nbformat_minor": 0,
  "metadata": {
    "colab": {
      "name": "Take a Ten Minute Walk (6).ipynb",
      "provenance": [],
      "collapsed_sections": [],
      "include_colab_link": true
    },
    "kernelspec": {
      "name": "python3",
      "display_name": "Python 3"
    }
  },
  "cells": [
    {
      "cell_type": "markdown",
      "metadata": {
        "id": "view-in-github",
        "colab_type": "text"
      },
      "source": [
        "<a href=\"https://colab.research.google.com/github/emenriquez/python-challenge-exercises/blob/master/Take_a_Ten_Minute_Walk_(6).ipynb\" target=\"_parent\"><img src=\"https://colab.research.google.com/assets/colab-badge.svg\" alt=\"Open In Colab\"/></a>"
      ]
    },
    {
      "cell_type": "markdown",
      "metadata": {
        "id": "-FS1XNqU1WEI",
        "colab_type": "text"
      },
      "source": [
        "# Take a Ten Minute Walk\n",
        "\n",
        "You live in the city of Cartesia where all roads are laid out in a perfect grid. You arrived ten minutes too early to an appointment, so you decided to take the opportunity to go for a short walk. The city provides its citizens with a Walk Generating App on their phones -- everytime you press the button it sends you an array of one-letter strings representing directions to walk (eg. `['n', 's', 'w', 'e']`). You always walk only a single block in a direction and you know it takes you one minute to traverse one city block, so create a function that will return true if the walk the app gives you will take you exactly ten minutes (you don't want to be early or late!) and will, of course, return you to your starting point. Return false otherwise.\n",
        "\n",
        "\n",
        "Note: you will always receive a valid array containing a random assortment of direction letters ('n', 's', 'e', or 'w' only). It will never give you an empty array (that's not a walk, that's standing still!)."
      ]
    },
    {
      "cell_type": "code",
      "metadata": {
        "id": "xYUgj6s61Sxj",
        "colab_type": "code",
        "colab": {}
      },
      "source": [
        "def isValidWalk(walk):\n",
        "  validEW = walk.count('e') - walk.count('w') \n",
        "  validNS = walk.count('n') - walk.count('s')\n",
        "  if validEW == 0 and validNS == 0 and len(walk) == 10:\n",
        "    valid = True\n",
        "  else:\n",
        "    valid = False\n",
        "  return valid"
      ],
      "execution_count": 0,
      "outputs": []
    },
    {
      "cell_type": "markdown",
      "metadata": {
        "id": "I0jmY5B41YCc",
        "colab_type": "text"
      },
      "source": [
        "### Test Examples"
      ]
    },
    {
      "cell_type": "code",
      "metadata": {
        "id": "SoQYsTa91aYm",
        "colab_type": "code",
        "colab": {
          "base_uri": "https://localhost:8080/",
          "height": 51
        },
        "outputId": "15262acf-1e2b-43ae-e37c-917d891d562f"
      },
      "source": [
        "falseEx = ['e', 'w', 'e', 'w', 's', 's', 'n', 's', 'e', 'w']\n",
        "trueEx = ['n', 's', 'e', 'w', 'n', 's', 'e', 'w', 'n', 's']\n",
        "\n",
        "print(isValidWalk(falseEx))\n",
        "print(isValidWalk(trueEx))"
      ],
      "execution_count": 11,
      "outputs": [
        {
          "output_type": "stream",
          "text": [
            "False\n",
            "True\n"
          ],
          "name": "stdout"
        }
      ]
    },
    {
      "cell_type": "markdown",
      "metadata": {
        "id": "EhyVHeC81ay_",
        "colab_type": "text"
      },
      "source": [
        "Completed in"
      ]
    }
  ]
}