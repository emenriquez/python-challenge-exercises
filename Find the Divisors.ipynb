{
 "cells": [
  {
   "cell_type": "markdown",
   "metadata": {},
   "source": [
    "# Find the Divisors\n",
    "\n",
    "\n",
    "### Problem Statement\n",
    "\n",
    "Create a function named divisors/Divisors that takes an integer and returns an array with all of the integer's divisors(except for 1 and the number itself). If the number is prime return the string '(integer) is prime' (null in C#)\n",
    "\n",
    "Example:\n",
    "\n",
    "    divisors(12); #should return [2,3,4,6]\n",
    "    divisors(25); #should return [5]\n",
    "    divisors(13); #should return \"13 is prime\""
   ]
  },
  {
   "cell_type": "code",
   "execution_count": 1,
   "metadata": {
    "collapsed": true
   },
   "outputs": [],
   "source": [
    "def divisors(integer):\n",
    "    import math # used to call square root\n",
    "\n",
    "    divs = [] # create an empty list for divisors\n",
    "    i = 2 # start from 2 so that 1 is not included in the list\n",
    "    while i <= math.sqrt(integer):\n",
    "        if integer % i == 0 :\n",
    "            divs.append(i)\n",
    "            if int(integer / i) not in divs:\n",
    "                divs.append(int(integer / i))\n",
    "        i += 1\n",
    "    \n",
    "    # return list or string based on results\n",
    "    if len(divs) == 0:\n",
    "        return (str(integer) + \" is prime\")\n",
    "    else:\n",
    "        return sorted(divs)"
   ]
  },
  {
   "cell_type": "markdown",
   "metadata": {},
   "source": [
    "### Tests"
   ]
  },
  {
   "cell_type": "code",
   "execution_count": 2,
   "metadata": {},
   "outputs": [
    {
     "name": "stdout",
     "output_type": "stream",
     "text": [
      "Divisors of 12: [2, 3, 4, 6]\n",
      "Divisors of 25: [5]\n",
      "Divisors of 13: 13 is prime\n"
     ]
    }
   ],
   "source": [
    "print('Divisors of {0}: {1}'.format(12, divisors(12)))\n",
    "print('Divisors of {0}: {1}'.format(25, divisors(25)))\n",
    "print('Divisors of {0}: {1}'.format(13, divisors(13)))"
   ]
  }
 ],
 "metadata": {
  "kernelspec": {
   "display_name": "Python 3",
   "language": "python",
   "name": "python3"
  },
  "language_info": {
   "codemirror_mode": {
    "name": "ipython",
    "version": 3
   },
   "file_extension": ".py",
   "mimetype": "text/x-python",
   "name": "python",
   "nbconvert_exporter": "python",
   "pygments_lexer": "ipython3",
   "version": "3.6.2"
  }
 },
 "nbformat": 4,
 "nbformat_minor": 2
}
