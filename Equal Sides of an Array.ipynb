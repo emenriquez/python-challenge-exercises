{
 "cells": [
  {
   "cell_type": "markdown",
   "metadata": {},
   "source": [
    "# Equal Sides of an Array\n",
    "\n",
    "### Problem Statement\n",
    "\n",
    "You are going to be given an array of integers. Your job is to take that array and find an index N where the sum of the integers to the left of N is equal to the sum of the integers to the right of N. If there is no index that would make this happen, return -1.\n",
    "\n",
    "For example:\n",
    "\n",
    "    Let's say you are given the array {1,2,3,4,3,2,1}:\n",
    "\n",
    "    Your function will return the index 3, because at the 3rd position of the array, the sum of left side of the index ({1,2,3}) and the sum of the right side of the index ({3,2,1}) both equal 6.\n",
    "\n",
    "Let's look at another one.\n",
    "\n",
    "    You are given the array {1,100,50,-51,1,1}:\n",
    "\n",
    "    Your function will return the index 1, because at the 1st position of the array, the sum of left side of the index ({1}) and the sum of the right side of the index ({50,-51,1,1}) both equal 1.\n",
    "\n",
    "Last one:\n",
    "\n",
    "    You are given the array {20,10,-80,10,10,15,35}\n",
    "    At index 0 the left side is {}\n",
    "    The right side is {10,-80,10,10,15,35}\n",
    "    They both are equal to 0 when added. (Empty arrays are equal to 0 in this problem)\n",
    "    Index 0 is the place where the left side and right side are equal.\n",
    "\n",
    "Note: Please remember that in most programming/scripting languages the index of an array starts at 0.\n",
    "\n",
    "Input:\n",
    "An integer array of length 0 < arr < 1000. The numbers in the array can be any integer positive or negative.\n",
    "\n",
    "Output:\n",
    "The lowest index N where the side to the left of N is equal to the side to the right of N. If you do not find an index that fits these rules, then you will return -1.\n",
    "\n",
    "Note:\n",
    "If you are given an array with multiple answers, return the lowest correct index.\n",
    "An empty array should be treated like a 0 in this problem."
   ]
  },
  {
   "cell_type": "code",
   "execution_count": 3,
   "metadata": {
    "collapsed": true
   },
   "outputs": [],
   "source": [
    "def find_even_index(arr):\n",
    "    for i in range(len(arr)):\n",
    "        if (sum(arr[:i]) - sum(arr[(i + 1):])) == 0:\n",
    "            return i\n",
    "            break\n",
    "    else:\n",
    "        return -1"
   ]
  },
  {
   "cell_type": "markdown",
   "metadata": {},
   "source": [
    "### Test"
   ]
  },
  {
   "cell_type": "code",
   "execution_count": 9,
   "metadata": {},
   "outputs": [
    {
     "name": "stdout",
     "output_type": "stream",
     "text": [
      "0\n",
      "3\n",
      "1\n"
     ]
    }
   ],
   "source": [
    "print(find_even_index([20,10,-80,10,10,15,35]))\n",
    "print(find_even_index([1,2,3,4,3,2,1]))\n",
    "print(find_even_index([1,100,50,-51,1,1]))"
   ]
  }
 ],
 "metadata": {
  "kernelspec": {
   "display_name": "Python 3",
   "language": "python",
   "name": "python3"
  },
  "language_info": {
   "codemirror_mode": {
    "name": "ipython",
    "version": 3
   },
   "file_extension": ".py",
   "mimetype": "text/x-python",
   "name": "python",
   "nbconvert_exporter": "python",
   "pygments_lexer": "ipython3",
   "version": "3.6.2"
  }
 },
 "nbformat": 4,
 "nbformat_minor": 2
}
