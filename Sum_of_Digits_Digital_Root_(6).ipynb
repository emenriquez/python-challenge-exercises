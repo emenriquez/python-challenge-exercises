{
  "nbformat": 4,
  "nbformat_minor": 0,
  "metadata": {
    "colab": {
      "name": "Sum of Digits / Digital Root (6).ipynb",
      "provenance": [],
      "collapsed_sections": [],
      "include_colab_link": true
    },
    "kernelspec": {
      "name": "python3",
      "display_name": "Python 3"
    }
  },
  "cells": [
    {
      "cell_type": "markdown",
      "metadata": {
        "id": "view-in-github",
        "colab_type": "text"
      },
      "source": [
        "<a href=\"https://colab.research.google.com/github/emenriquez/python-challenge-exercises/blob/master/Sum_of_Digits_Digital_Root_(6).ipynb\" target=\"_parent\"><img src=\"https://colab.research.google.com/assets/colab-badge.svg\" alt=\"Open In Colab\"/></a>"
      ]
    },
    {
      "cell_type": "markdown",
      "metadata": {
        "id": "gSJnMgNOG89y",
        "colab_type": "text"
      },
      "source": [
        "# Sum of Digits / Digital Root\n",
        "\n",
        "In this kata, you must create a `digital root` function.\n",
        "\n",
        "A digital root is the recursive sum of all the digits in a number. Given n, take the sum of the digits of n. If that value has more than one digit, continue reducing in this way until a single-digit number is produced. This is only applicable to the natural numbers.\n",
        "\n",
        "Here's how it works:\n",
        "\n",
        "```\n",
        "digital_root(16)\n",
        "=> 1 + 6\n",
        "=> 7\n",
        "\n",
        "digital_root(942)\n",
        "=> 9 + 4 + 2\n",
        "=> 15 ...\n",
        "=> 1 + 5\n",
        "=> 6\n",
        "\n",
        "digital_root(132189)\n",
        "=> 1 + 3 + 2 + 1 + 8 + 9\n",
        "=> 24 ...\n",
        "=> 2 + 4\n",
        "=> 6\n",
        "\n",
        "digital_root(493193)\n",
        "=> 4 + 9 + 3 + 1 + 9 + 3\n",
        "=> 29 ...\n",
        "=> 2 + 9\n",
        "=> 11 ...\n",
        "=> 1 + 1\n",
        "=> 2\n",
        "```"
      ]
    },
    {
      "cell_type": "code",
      "metadata": {
        "id": "FiKS6RDcHHtJ",
        "colab_type": "code",
        "colab": {}
      },
      "source": [
        "def digital_root(n):\n",
        "  result = n\n",
        "  # Check if the result is only 1 digit each time this loop runs\n",
        "  while result >= 10:\n",
        "    # If result is more than 1 digit, convert to a list of digits\n",
        "    digits = list(str(result))\n",
        "    # Sum all digits \n",
        "    result = sum([int(digit) for digit in digits])\n",
        "# return result once sum of digits is only 1 digit in length\n",
        "  return result"
      ],
      "execution_count": 0,
      "outputs": []
    },
    {
      "cell_type": "markdown",
      "metadata": {
        "id": "1q4PwVM-HKfT",
        "colab_type": "text"
      },
      "source": [
        "### Test Example"
      ]
    },
    {
      "cell_type": "code",
      "metadata": {
        "id": "ykiWTWhoHL9k",
        "colab_type": "code",
        "colab": {
          "base_uri": "https://localhost:8080/",
          "height": 34
        },
        "outputId": "0e249743-9215-49a5-f170-69fb472bd10b"
      },
      "source": [
        "example = 493193\n",
        "digital_root(example)"
      ],
      "execution_count": 2,
      "outputs": [
        {
          "output_type": "execute_result",
          "data": {
            "text/plain": [
              "2"
            ]
          },
          "metadata": {
            "tags": []
          },
          "execution_count": 2
        }
      ]
    },
    {
      "cell_type": "markdown",
      "metadata": {
        "id": "jWswPjdDHSko",
        "colab_type": "text"
      },
      "source": [
        "Completed in 5 minutes"
      ]
    }
  ]
}