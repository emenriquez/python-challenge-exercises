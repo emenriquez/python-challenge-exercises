{
 "cells": [
  {
   "cell_type": "markdown",
   "metadata": {},
   "source": [
    "# Clock in Mirror\n",
    "\n",
    "Peter can see a clock in the mirror from the place he sits in the office. When he saw the clock shows 12:22\n",
    "\n",
    "<img src=\"clock-image-mirror.png\">\n",
    "\n",
    "He knows that the time is 11:38\n",
    "\n",
    "<img src=\"clock-image-real.png\">\n",
    "\n",
    "in the same manner:\n",
    "\n",
    "05:25 --> 06:35\n",
    "\n",
    "01:50 --> 10:10\n",
    "\n",
    "11:58 --> 12:02\n",
    "\n",
    "12:01 --> 11:59\n",
    "\n",
    "### Problem Statement:\n",
    "Please complete the method which is provided with mirror time as string, and return the real time as string.\n",
    "\n",
    "The return time value should always be between 1<= time < 13. This is the convenient way that human read the clock.\n",
    "\n",
    "So there is no 00:20, instead it is 12:20.\n",
    "\n",
    "There is no 13:20, instead it is 01:20."
   ]
  },
  {
   "cell_type": "code",
   "execution_count": 49,
   "metadata": {},
   "outputs": [],
   "source": [
    "def what_is_the_time(time_in_mirror):\n",
    "    '''\n",
    "    This function will return a real time given an input string of time shown on a clock as seen from a mirror\n",
    "    ---------------------\n",
    "    A few notes on time on the clock when it is mirrored:\n",
    "    12:00 and 6:00 should be the only values that remain unchanged\n",
    "    1, 2, 3, 4, 5 become 11, 10, 9, 8, 7 - respectively, and vice versa\n",
    "    Minutes will similarly be transformed by the reflection (e.g. 45 <-> 15, 20 <-> 40)\n",
    "    '''    \n",
    "    # In order to flip both the hour and minutes from one side of the clock to the other we will first encode the time as being purely in minutes\n",
    "\n",
    "    # First split the string into a list containing [hours, minutes]\n",
    "    list_time = time_in_mirror.split(':')\n",
    "    \n",
    "    # Next combine the hours and minutes into total minutes\n",
    "    time_in_minutes = int(list_time[0])*60 + int(list_time[1])\n",
    "    \n",
    "    # Now we can take the distance from 12:00 and subtract (or add) it twice\n",
    "    reflected_time_minutes = (time_in_minutes - 2*(time_in_minutes - 720)) % 720\n",
    "    '''\n",
    "    Reasoning: If time is before 6:00, this will add time to reflect across 12:00\n",
    "    *e.g. 5:30 -> 330 minutes, 330 - 720 = -390\n",
    "    330 - 2*(-390) = 1,110 -> 1,110 % 720 = 390\n",
    "    For time after 6:00, this will appropriately subtract time to reflect across 12:00\n",
    "    '''\n",
    "    #One more step - we need to account for time between 00:00  and 00:59 and output as 12:00 to 12:59\n",
    "    if reflected_time_minutes < 60:\n",
    "        reflected_time_minutes += 720\n",
    "    \n",
    "    # Finally we return time to 'hour:minute' string format\n",
    "    # Note: Here, {:02} is used to specify the number of digits the hours and minutes will occupy. This correctly outputs single digit values such as '0' as '00' or '9' as '09'.\n",
    "    return '{0:02}:{1:02}'.format(reflected_time_minutes // 60, reflected_time_minutes % 60)"
   ]
  },
  {
   "cell_type": "code",
   "execution_count": 72,
   "metadata": {},
   "outputs": [
    {
     "data": {
      "text/plain": [
       "'05:30'"
      ]
     },
     "execution_count": 72,
     "metadata": {},
     "output_type": "execute_result"
    }
   ],
   "source": [
    "what_is_the_time('6:30')"
   ]
  }
 ],
 "metadata": {
  "kernelspec": {
   "display_name": "Python 3",
   "language": "python",
   "name": "python3"
  },
  "language_info": {
   "codemirror_mode": {
    "name": "ipython",
    "version": 3
   },
   "file_extension": ".py",
   "mimetype": "text/x-python",
   "name": "python",
   "nbconvert_exporter": "python",
   "pygments_lexer": "ipython3",
   "version": "3.6.2"
  }
 },
 "nbformat": 4,
 "nbformat_minor": 2
}
