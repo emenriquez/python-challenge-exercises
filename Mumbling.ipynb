{
  "nbformat": 4,
  "nbformat_minor": 0,
  "metadata": {
    "colab": {
      "name": "Mumbling.ipynb",
      "version": "0.3.2",
      "provenance": [],
      "include_colab_link": true
    },
    "kernelspec": {
      "name": "python3",
      "display_name": "Python 3"
    }
  },
  "cells": [
    {
      "cell_type": "markdown",
      "metadata": {
        "id": "view-in-github",
        "colab_type": "text"
      },
      "source": [
        "<a href=\"https://colab.research.google.com/github/emenriquez/python-challenge-exercises/blob/master/Mumbling.ipynb\" target=\"_parent\"><img src=\"https://colab.research.google.com/assets/colab-badge.svg\" alt=\"Open In Colab\"/></a>"
      ]
    },
    {
      "cell_type": "markdown",
      "metadata": {
        "id": "p3MlbAhbQlqU",
        "colab_type": "text"
      },
      "source": [
        "# Mumbling\n",
        "\n",
        "Description:\n",
        "\n",
        "This time no story, no theory. The examples below show you how to write function ```accum```:\n",
        "\n",
        "Examples:\n",
        "```\n",
        "accum(\"abcd\") -> \"A-Bb-Ccc-Dddd\"\n",
        "accum(\"RqaEzty\") -> \"R-Qq-Aaa-Eeee-Zzzzz-Tttttt-Yyyyyyy\"\n",
        "accum(\"cwAt\") -> \"C-Ww-Aaa-Tttt\"\n",
        "```\n",
        "The parameter of accum is a string which includes only letters from ```a..z``` and ```A..Z```."
      ]
    },
    {
      "cell_type": "code",
      "metadata": {
        "id": "VRGDLOauQcpE",
        "colab_type": "code",
        "colab": {}
      },
      "source": [
        "def accum(s):\n",
        "  # Create a list where each letter in a string is multiplied times its position in the list and has its first letter capitalized\n",
        "  repeatList = [(s[x]*(x+1)).capitalize() for x in range(len(s))]\n",
        "  \n",
        "  # join the items of the list together into a single string with hyphens separating each item\n",
        "  response = '-'.join(repeatList)\n",
        "  \n",
        "  return response"
      ],
      "execution_count": 0,
      "outputs": []
    },
    {
      "cell_type": "markdown",
      "metadata": {
        "id": "2pYYxO05SszA",
        "colab_type": "text"
      },
      "source": [
        "### Test Example "
      ]
    },
    {
      "cell_type": "code",
      "metadata": {
        "id": "7cubtMMBRNGb",
        "colab_type": "code",
        "colab": {}
      },
      "source": [
        "example = \"RqaEzty\""
      ],
      "execution_count": 0,
      "outputs": []
    },
    {
      "cell_type": "code",
      "metadata": {
        "id": "32ugHhx-RSqi",
        "colab_type": "code",
        "colab": {
          "base_uri": "https://localhost:8080/",
          "height": 34
        },
        "outputId": "40146a4b-95c9-4548-f93a-06822ed97c89"
      },
      "source": [
        "accum(example)"
      ],
      "execution_count": 16,
      "outputs": [
        {
          "output_type": "execute_result",
          "data": {
            "text/plain": [
              "'R-Qq-Aaa-Eeee-Zzzzz-Tttttt-Yyyyyyy'"
            ]
          },
          "metadata": {
            "tags": []
          },
          "execution_count": 16
        }
      ]
    },
    {
      "cell_type": "code",
      "metadata": {
        "id": "I4Z6musfRUkt",
        "colab_type": "code",
        "colab": {}
      },
      "source": [
        "# Completed in 8 minutes"
      ],
      "execution_count": 0,
      "outputs": []
    }
  ]
}