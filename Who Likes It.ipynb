{
 "cells": [
  {
   "cell_type": "markdown",
   "metadata": {},
   "source": [
    "# Who Likes It?\n",
    "\n",
    "You probably know the \"like\" system from Facebook and other pages. People can \"like\" blog posts, pictures or other items. We want to create the text that should be displayed next to such an item.\n",
    "\n",
    "### Problem Statement\n",
    "\n",
    "Implement a function likes :: [String] -> String, which must take in input array, containing the names of people who like an item. It must return the display text as shown in the examples:\n",
    "\n",
    "    likes [] // must be \"no one likes this\"\n",
    "    likes [\"Peter\"] // must be \"Peter likes this\"\n",
    "    likes [\"Jacob\", \"Alex\"] // must be \"Jacob and Alex like this\"\n",
    "    likes [\"Max\", \"John\", \"Mark\"] // must be \"Max, John and Mark like this\"\n",
    "    likes [\"Alex\", \"Jacob\", \"Mark\", \"Max\"] // must be \"Alex, Jacob and 2 others like this\"\n",
    "\n",
    "For more than 4 names, the number in and 2 others simply increases."
   ]
  },
  {
   "cell_type": "code",
   "execution_count": 1,
   "metadata": {
    "collapsed": true
   },
   "outputs": [],
   "source": [
    "def likes(names):\n",
    "    if len(names) == 0:\n",
    "        return \"no one likes this\"\n",
    "    elif len(names) == 1:\n",
    "        return (names[0] + \" likes this\")\n",
    "    elif len(names) == 2:\n",
    "        return (names[0] + \" and \" + names[1] + \" like this\")\n",
    "    elif len(names) == 3:\n",
    "        return (names[0] + \", \" + names[1] + \" and \" + names[2] + \" like this\")\n",
    "    else:\n",
    "        return (names[0] + \", \" + names[1] + \" and \" + str(len(names) - 2) + \" others like this\")"
   ]
  },
  {
   "cell_type": "markdown",
   "metadata": {},
   "source": [
    "### Test"
   ]
  },
  {
   "cell_type": "code",
   "execution_count": 4,
   "metadata": {},
   "outputs": [
    {
     "name": "stdout",
     "output_type": "stream",
     "text": [
      "no one likes this\n",
      "Peter likes this\n",
      "Jacob and Alex like this\n",
      "Max, John and Mark like this\n",
      "Sarah, Jacob and 2 others like this\n",
      "Ed, Elise and 3 others like this\n"
     ]
    }
   ],
   "source": [
    "print(likes([]))\n",
    "print(likes(['Peter']))\n",
    "print(likes(['Jacob', 'Alex']))\n",
    "print(likes(['Max', 'John', 'Mark']))\n",
    "print(likes(['Sarah', 'Jacob', 'Alyssa', 'Max']))\n",
    "print(likes(['Ed', 'Elise', 'Ernest', 'Elizabeth', 'Ethan']))"
   ]
  }
 ],
 "metadata": {
  "kernelspec": {
   "display_name": "Python 3",
   "language": "python",
   "name": "python3"
  },
  "language_info": {
   "codemirror_mode": {
    "name": "ipython",
    "version": 3
   },
   "file_extension": ".py",
   "mimetype": "text/x-python",
   "name": "python",
   "nbconvert_exporter": "python",
   "pygments_lexer": "ipython3",
   "version": "3.6.2"
  }
 },
 "nbformat": 4,
 "nbformat_minor": 2
}
