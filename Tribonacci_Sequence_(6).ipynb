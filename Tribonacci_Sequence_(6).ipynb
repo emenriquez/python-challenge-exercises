{
  "nbformat": 4,
  "nbformat_minor": 0,
  "metadata": {
    "colab": {
      "name": "Tribonacci Sequence (6).ipynb",
      "provenance": [],
      "collapsed_sections": [],
      "include_colab_link": true
    },
    "kernelspec": {
      "name": "python3",
      "display_name": "Python 3"
    }
  },
  "cells": [
    {
      "cell_type": "markdown",
      "metadata": {
        "id": "view-in-github",
        "colab_type": "text"
      },
      "source": [
        "<a href=\"https://colab.research.google.com/github/emenriquez/python-challenge-exercises/blob/master/Tribonacci_Sequence_(6).ipynb\" target=\"_parent\"><img src=\"https://colab.research.google.com/assets/colab-badge.svg\" alt=\"Open In Colab\"/></a>"
      ]
    },
    {
      "cell_type": "markdown",
      "metadata": {
        "id": "1SnQLSN2lq9t",
        "colab_type": "text"
      },
      "source": [
        "# Tribonacci Sequence\n",
        "\n",
        "Well met with Fibonacci bigger brother, AKA Tribonacci.\n",
        "\n",
        "As the name may already reveal, it works basically like a Fibonacci, but summing the last 3 (instead of 2) numbers of the sequence to generate the next. And, worse part of it, regrettably I won't get to hear non-native Italian speakers trying to pronounce it :(\n",
        "\n",
        "So, if we are to start our Tribonacci sequence with `[1, 1, 1]` as a starting input (AKA signature), we have this sequence:\n",
        "\n",
        "`[1, 1 ,1, 3, 5, 9, 17, 31, ...]`\n",
        "\n",
        "But what if we started with `[0, 0, 1]` as a signature? As starting with `[0, 1]` instead of `[1, 1]` basically shifts the common Fibonacci sequence by once place, you may be tempted to think that we would get the same sequence shifted by 2 places, but that is not the case and we would get:\n",
        "\n",
        "`[0, 0, 1, 1, 2, 4, 7, 13, 24, ...]`\n",
        "\n",
        "Well, you may have guessed it by now, but to be clear: you need to create a fibonacci function that given a signature array/list, returns __the first n elements - signature included__ of the so seeded sequence.\n",
        "\n",
        "Signature will always contain 3 numbers; n will always be a non-negative number; if `n == 0`, then return an empty array (except in C return NULL) and be ready for anything else which is not clearly specified ;)"
      ]
    },
    {
      "cell_type": "code",
      "metadata": {
        "id": "-D-LlftgmQA0",
        "colab_type": "code",
        "colab": {}
      },
      "source": [
        "def tribonacci(signature, n):\n",
        "  # begin our sequence with the given signature numbers\n",
        "  result = signature\n",
        "  # keep adding entries until the length of our array matches the entered length\n",
        "  while len(result) < n:\n",
        "    # sum the last 3 numbers in our list to determine our next sequence entry\n",
        "    nextNum = sum(result[-3:])\n",
        "    # append the next number to the end of our list\n",
        "    result = result + [nextNum]\n",
        "  # return the first n results of the list (just in case the requested sequence is shorter than the signature)\n",
        "  return result[:n]\n"
      ],
      "execution_count": 0,
      "outputs": []
    },
    {
      "cell_type": "markdown",
      "metadata": {
        "id": "h3QWaIegmTJg",
        "colab_type": "text"
      },
      "source": [
        "### Test Example"
      ]
    },
    {
      "cell_type": "code",
      "metadata": {
        "id": "5gl7bCX1lBKq",
        "colab_type": "code",
        "colab": {
          "base_uri": "https://localhost:8080/",
          "height": 34
        },
        "outputId": "3d9ac958-2a66-4d7f-b1c7-3e90653524c5"
      },
      "source": [
        "tribonacci([0, 1, 1], 10)"
      ],
      "execution_count": 19,
      "outputs": [
        {
          "output_type": "execute_result",
          "data": {
            "text/plain": [
              "[0, 1, 1, 2, 4, 7, 13, 24, 44, 81]"
            ]
          },
          "metadata": {
            "tags": []
          },
          "execution_count": 19
        }
      ]
    },
    {
      "cell_type": "markdown",
      "metadata": {
        "id": "WbhqROCWpP2R",
        "colab_type": "text"
      },
      "source": [
        "Completed in 12 minutes"
      ]
    }
  ]
}