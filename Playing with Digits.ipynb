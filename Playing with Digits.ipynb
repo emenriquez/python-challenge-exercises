{
 "cells": [
  {
   "cell_type": "markdown",
   "metadata": {},
   "source": [
    "# Playing with Digits\n",
    "\n",
    "Some numbers have funny properties. For example:\n",
    "\n",
    "    89 --> 8¹ + 9² = 89 * 1\n",
    "\n",
    "    695 --> 6² + 9³ + 5⁴= 1390 = 695 * 2\n",
    "\n",
    "    46288 --> 4³ + 6⁴+ 2⁵ + 8⁶ + 8⁷ = 2360688 = 46288 * 51\n",
    "\n",
    "### Problem Statment\n",
    "\n",
    "Given a positive integer n written as abcd... (a, b, c, d... being digits) and a positive integer p we want to find a positive integer k, if it exists, such as the sum of the digits of n taken to the successive powers of p is equal to k * n. In other words:\n",
    "\n",
    "    Is there an integer k such as : (a ^ p + b ^ (p+1) + c ^(p+2) + d ^ (p+3) + ...) = n * k\n",
    "\n",
    "If it is the case we will return k, if not return -1.\n",
    "\n",
    "Note: n, p will always be given as strictly positive integers.\n",
    "\n",
    "    dig_pow(89, 1) should return 1 since 8¹ + 9² = 89 = 89 * 1\n",
    "    dig_pow(92, 1) should return -1 since there is no k such as 9¹ + 2² equals 92 * k\n",
    "    dig_pow(695, 2) should return 2 since 6² + 9³ + 5⁴= 1390 = 695 * 2\n",
    "    dig_pow(46288, 3) should return 51 since 4³ + 6⁴+ 2⁵ + 8⁶ + 8⁷ = 2360688 = 46288 * 51"
   ]
  },
  {
   "cell_type": "code",
   "execution_count": 7,
   "metadata": {
    "collapsed": true
   },
   "outputs": [],
   "source": [
    "def dig_pow(n, p):\n",
    "# convert n to a string, then extract the digits into a list\n",
    "    ndigits = [int(x) for x in str(n)]\n",
    "    \n",
    "# build list for successive powers of p\n",
    "    npow = list(range(p, p+len(ndigits)))\n",
    "    \n",
    "# combine and sum ndigits raised to respective powers of p\n",
    "    nsum = sum([ndigits[x]**npow[x] for x in range(len(ndigits))])\n",
    "    \n",
    "# check if nsum is divisible by n\n",
    "    if (nsum % n == 0):\n",
    "        return int(nsum / n)\n",
    "    else:\n",
    "        return -1"
   ]
  },
  {
   "cell_type": "code",
   "execution_count": 8,
   "metadata": {},
   "outputs": [
    {
     "name": "stdout",
     "output_type": "stream",
     "text": [
      "dig_pow(89, 1): 1\n",
      "dig_pow(92, 1): -1\n",
      "dig_pow(695, 2): 2\n",
      "dig_pow(46288, 3): 51\n"
     ]
    }
   ],
   "source": [
    "print('{0}: {1}'.format('dig_pow(89, 1)', dig_pow(89, 1)))\n",
    "print('{0}: {1}'.format('dig_pow(92, 1)', dig_pow(92, 1)))\n",
    "print('{0}: {1}'.format('dig_pow(695, 2)', dig_pow(695, 2)))\n",
    "print('{0}: {1}'.format('dig_pow(46288, 3)', dig_pow(46288, 3)))"
   ]
  }
 ],
 "metadata": {
  "kernelspec": {
   "display_name": "Python 3",
   "language": "python",
   "name": "python3"
  },
  "language_info": {
   "codemirror_mode": {
    "name": "ipython",
    "version": 3
   },
   "file_extension": ".py",
   "mimetype": "text/x-python",
   "name": "python",
   "nbconvert_exporter": "python",
   "pygments_lexer": "ipython3",
   "version": "3.6.2"
  }
 },
 "nbformat": 4,
 "nbformat_minor": 2
}
