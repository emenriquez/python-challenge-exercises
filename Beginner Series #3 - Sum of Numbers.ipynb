{
 "cells": [
  {
   "cell_type": "markdown",
   "metadata": {},
   "source": [
    "# Beginner Series #3: Sum of Numbers\n",
    "\n",
    "### Problem Statement\n",
    "Given two integers a and b, which can be positive or negative, find the sum of all the numbers between including them too and return it. If the two numbers are equal return a or b.\n",
    "\n",
    "Note: a and b are not ordered!\n",
    "\n",
    "#### Examples\n",
    "\n",
    "    get_sum(1, 0) == 1   // 1 + 0 = 1\n",
    "    get_sum(1, 2) == 3   // 1 + 2 = 3\n",
    "    get_sum(0, 1) == 1   // 0 + 1 = 1\n",
    "    get_sum(1, 1) == 1   // 1 Since both are same\n",
    "    get_sum(-1, 0) == -1 // -1 + 0 = -1\n",
    "    get_sum(-1, 2) == 2  // -1 + 0 + 1 + 2 = 2"
   ]
  },
  {
   "cell_type": "code",
   "execution_count": 1,
   "metadata": {
    "collapsed": true
   },
   "outputs": [],
   "source": [
    "def get_sum(a,b):\n",
    "    if a == b:\n",
    "        return a\n",
    "    elif a < b:\n",
    "        return sum(range(a, b + 1))\n",
    "    else:\n",
    "        return sum(range(b, a + 1))"
   ]
  },
  {
   "cell_type": "markdown",
   "metadata": {},
   "source": [
    "#### Test"
   ]
  },
  {
   "cell_type": "code",
   "execution_count": 2,
   "metadata": {},
   "outputs": [
    {
     "name": "stdout",
     "output_type": "stream",
     "text": [
      "get_sum(1, 2): 3\n",
      "get_sum(5, 1): 15\n",
      "get_sum(-1, 2): 2\n"
     ]
    }
   ],
   "source": [
    "print('{0}: {1}'.format('get_sum(1, 2)', get_sum(1, 2)))\n",
    "print('{0}: {1}'.format('get_sum(5, 1)', get_sum(5, 1)))\n",
    "print('{0}: {1}'.format('get_sum(-1, 2)', get_sum(-1, 2)))"
   ]
  }
 ],
 "metadata": {
  "kernelspec": {
   "display_name": "Python 3",
   "language": "python",
   "name": "python3"
  },
  "language_info": {
   "codemirror_mode": {
    "name": "ipython",
    "version": 3
   },
   "file_extension": ".py",
   "mimetype": "text/x-python",
   "name": "python",
   "nbconvert_exporter": "python",
   "pygments_lexer": "ipython3",
   "version": "3.6.2"
  }
 },
 "nbformat": 4,
 "nbformat_minor": 2
}
