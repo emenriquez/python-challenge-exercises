{
  "nbformat": 4,
  "nbformat_minor": 0,
  "metadata": {
    "colab": {
      "name": "Highest and Lowest (7).ipynb",
      "version": "0.3.2",
      "provenance": [],
      "collapsed_sections": [],
      "include_colab_link": true
    },
    "kernelspec": {
      "name": "python3",
      "display_name": "Python 3"
    }
  },
  "cells": [
    {
      "cell_type": "markdown",
      "metadata": {
        "id": "view-in-github",
        "colab_type": "text"
      },
      "source": [
        "<a href=\"https://colab.research.google.com/github/emenriquez/python-challenge-exercises/blob/master/Highest_and_Lowest_(7).ipynb\" target=\"_parent\"><img src=\"https://colab.research.google.com/assets/colab-badge.svg\" alt=\"Open In Colab\"/></a>"
      ]
    },
    {
      "cell_type": "markdown",
      "metadata": {
        "id": "bYywnzB_oCbe",
        "colab_type": "text"
      },
      "source": [
        "# Highest and Lowest\n"
      ]
    },
    {
      "cell_type": "code",
      "metadata": {
        "id": "q9N10V4coDoz",
        "colab_type": "code",
        "colab": {}
      },
      "source": [
        "def high_and_low(numbers):\n",
        "  # split string into list items which were seperated by spaces\n",
        "  numberList = numbers.split(\" \")\n",
        "  \n",
        "  # Convert string numbers into integers in order to operate on them\n",
        "  intNumbers = [int(x) for x in numberList]\n",
        "  \n",
        "  # Build a string composed of highest and lowest number in the list as strings separated by a space character\n",
        "  maxAndMin = str(max(intNumbers)) + \" \" + str(min(intNumbers))\n",
        "  \n",
        "  return maxAndMin"
      ],
      "execution_count": 0,
      "outputs": []
    },
    {
      "cell_type": "markdown",
      "metadata": {
        "id": "d7f30Cjbq8r1",
        "colab_type": "text"
      },
      "source": [
        "### Test Example"
      ]
    },
    {
      "cell_type": "code",
      "metadata": {
        "id": "TqPblcX7oBfx",
        "colab_type": "code",
        "colab": {}
      },
      "source": [
        "example = \"4 5 29 54 4 0 -214 542 -64 1 -3 6 -6\""
      ],
      "execution_count": 0,
      "outputs": []
    },
    {
      "cell_type": "code",
      "metadata": {
        "id": "zcILcKu6oxDP",
        "colab_type": "code",
        "colab": {
          "base_uri": "https://localhost:8080/",
          "height": 51
        },
        "outputId": "1f839fa8-3537-470e-ae2c-96ec86acb683"
      },
      "source": [
        "high_and_low(example)"
      ],
      "execution_count": 31,
      "outputs": [
        {
          "output_type": "stream",
          "text": [
            "[4, 5, 29, 54, 4, 0, -214, 542, -64, 1, -3, 6, -6]\n"
          ],
          "name": "stdout"
        },
        {
          "output_type": "execute_result",
          "data": {
            "text/plain": [
              "'542 -214'"
            ]
          },
          "metadata": {
            "tags": []
          },
          "execution_count": 31
        }
      ]
    },
    {
      "cell_type": "markdown",
      "metadata": {
        "id": "NEe200JwrGO9",
        "colab_type": "text"
      },
      "source": [
        "Completed in 8 minutes"
      ]
    }
  ]
}