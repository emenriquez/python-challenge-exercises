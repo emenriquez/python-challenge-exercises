{
  "nbformat": 4,
  "nbformat_minor": 0,
  "metadata": {
    "colab": {
      "name": "Find the Parity Outlier (6).ipynb",
      "version": "0.3.2",
      "provenance": [],
      "collapsed_sections": [],
      "include_colab_link": true
    },
    "kernelspec": {
      "name": "python3",
      "display_name": "Python 3"
    }
  },
  "cells": [
    {
      "cell_type": "markdown",
      "metadata": {
        "id": "view-in-github",
        "colab_type": "text"
      },
      "source": [
        "<a href=\"https://colab.research.google.com/github/emenriquez/python-challenge-exercises/blob/master/Find_the_Parity_Outlier_(6).ipynb\" target=\"_parent\"><img src=\"https://colab.research.google.com/assets/colab-badge.svg\" alt=\"Open In Colab\"/></a>"
      ]
    },
    {
      "cell_type": "markdown",
      "metadata": {
        "id": "ne_HtVlvU5ZP",
        "colab_type": "text"
      },
      "source": [
        "# Find the Parity Outlier\n",
        "\n",
        "You are given an array (which will have a length of at least 3, but could be very large) containing integers. The array is either entirely comprised of odd integers or entirely comprised of even integers except for a single integer `N`. Write a method that takes the array as an argument and returns this \"outlier\" `N`.\n",
        "\n",
        "Examples\n",
        "\n",
        "`[2, 4, 0, 100, 4, 11, 2602, 36]`\n",
        "\n",
        "Should return: 11 (the only odd number)\n",
        "\n",
        "`[160, 3, 1719, 19, 11, 13, -21]`\n",
        "\n",
        "Should return: 160 (the only even number)\n"
      ]
    },
    {
      "cell_type": "code",
      "metadata": {
        "id": "PSbdzbocU4no",
        "colab_type": "code",
        "colab": {}
      },
      "source": [
        "def find_outlier(integers):\n",
        "  # separate the array into lists of even and odd numbers\n",
        "  evenNums = [x for x in integers if x % 2 == 0]\n",
        "  oddNums = [x for x in integers if x % 2 != 0]\n",
        "  # if the even number list has a single entry return that entry, if not return the odd number entry\n",
        "  if len(evenNums) == 1:\n",
        "    return evenNums[0]\n",
        "  else:\n",
        "    return oddNums[0]"
      ],
      "execution_count": 0,
      "outputs": []
    },
    {
      "cell_type": "markdown",
      "metadata": {
        "id": "K8hUyXmeV1rr",
        "colab_type": "text"
      },
      "source": [
        "### Test Example"
      ]
    },
    {
      "cell_type": "code",
      "metadata": {
        "id": "pE-XcFHLVyvu",
        "colab_type": "code",
        "colab": {
          "base_uri": "https://localhost:8080/",
          "height": 34
        },
        "outputId": "9f5ec22e-68c3-4c36-9b87-bda5bef53203"
      },
      "source": [
        "example = [160, 3, 1719, 19, 11, 13, -21]\n",
        "\n",
        "find_outlier(example)"
      ],
      "execution_count": 8,
      "outputs": [
        {
          "output_type": "execute_result",
          "data": {
            "text/plain": [
              "160"
            ]
          },
          "metadata": {
            "tags": []
          },
          "execution_count": 8
        }
      ]
    },
    {
      "cell_type": "markdown",
      "metadata": {
        "id": "lxW5mJlJWBJ_",
        "colab_type": "text"
      },
      "source": [
        "Completed in 7 minutes"
      ]
    }
  ]
}