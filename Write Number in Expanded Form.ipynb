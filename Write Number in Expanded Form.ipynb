{
 "cells": [
  {
   "cell_type": "markdown",
   "metadata": {},
   "source": [
    "# Write Number in Expanded Form\n",
    "\n",
    "### Problem Statement\n",
    "\n",
    "You will be given a number and you will need to return it as a string in Expanded Form. For example:\n",
    "\n",
    "    expanded_form(12) # Should return '10 + 2'\n",
    "    expanded_form(42) # Should return '40 + 2'\n",
    "    expanded_form(70304) # Should return '70000 + 300 + 4'\n",
    "\n",
    "NOTE: All numbers will be whole numbers greater than 0."
   ]
  },
  {
   "cell_type": "code",
   "execution_count": 1,
   "metadata": {
    "collapsed": true
   },
   "outputs": [],
   "source": [
    "def expanded_form(num):\n",
    "    # convert number to a string\n",
    "    num_str = str(num)\n",
    "\n",
    "    # create a list with each digit raised to its respective power\n",
    "    power = [str(int(num_str[i])*10**(len(num_str) - 1 - i)) for i in range(len(num_str))]\n",
    "\n",
    "    # combine list into a string\n",
    "    nozeros = ' + '.join(filter(lambda a: a != '0', power))\n",
    "\n",
    "    return nozeros"
   ]
  },
  {
   "cell_type": "markdown",
   "metadata": {},
   "source": [
    "### Test"
   ]
  },
  {
   "cell_type": "code",
   "execution_count": 4,
   "metadata": {},
   "outputs": [
    {
     "name": "stdout",
     "output_type": "stream",
     "text": [
      "expanded form of 12: 10 + 2\n",
      "expanded form of 42: 40 + 2\n",
      "expanded form of 70304: 70000 + 300 + 4\n"
     ]
    }
   ],
   "source": [
    "print('{0}: {1}'.format('expanded form of 12', expanded_form(12)))\n",
    "print('{0}: {1}'.format('expanded form of 42', expanded_form(42)))\n",
    "print('{0}: {1}'.format('expanded form of 70304', expanded_form(70304)))"
   ]
  }
 ],
 "metadata": {
  "kernelspec": {
   "display_name": "Python 3",
   "language": "python",
   "name": "python3"
  },
  "language_info": {
   "codemirror_mode": {
    "name": "ipython",
    "version": 3
   },
   "file_extension": ".py",
   "mimetype": "text/x-python",
   "name": "python",
   "nbconvert_exporter": "python",
   "pygments_lexer": "ipython3",
   "version": "3.6.2"
  }
 },
 "nbformat": 4,
 "nbformat_minor": 2
}
