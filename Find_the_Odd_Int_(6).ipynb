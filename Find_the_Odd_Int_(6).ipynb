{
  "nbformat": 4,
  "nbformat_minor": 0,
  "metadata": {
    "colab": {
      "name": "Find the Odd Int (6).ipynb",
      "version": "0.3.2",
      "provenance": [],
      "collapsed_sections": [],
      "include_colab_link": true
    },
    "kernelspec": {
      "name": "python3",
      "display_name": "Python 3"
    }
  },
  "cells": [
    {
      "cell_type": "markdown",
      "metadata": {
        "id": "view-in-github",
        "colab_type": "text"
      },
      "source": [
        "<a href=\"https://colab.research.google.com/github/emenriquez/python-challenge-exercises/blob/master/Find_the_Odd_Int_(6).ipynb\" target=\"_parent\"><img src=\"https://colab.research.google.com/assets/colab-badge.svg\" alt=\"Open In Colab\"/></a>"
      ]
    },
    {
      "cell_type": "markdown",
      "metadata": {
        "id": "ZCsIGVX0Ovf3",
        "colab_type": "text"
      },
      "source": [
        "# Find the Odd Int\n",
        "\n",
        "Given an array, find the int that appears an odd number of times.\n",
        "\n",
        "There will always be only one integer that appears an odd number of times."
      ]
    },
    {
      "cell_type": "code",
      "metadata": {
        "id": "iuRnnQ5FOsiB",
        "colab_type": "code",
        "colab": {}
      },
      "source": [
        "def find_it(seq):\n",
        "  # run through each item of the list and create a list entry if it has an odd frequency\n",
        "  oddInt = [x for x in seq if seq.count(x) % 2 != 0]\n",
        "  # return the first (should be only) item in our list\n",
        "  return oddInt[0]"
      ],
      "execution_count": 0,
      "outputs": []
    },
    {
      "cell_type": "markdown",
      "metadata": {
        "id": "fa9vFe32O5h5",
        "colab_type": "text"
      },
      "source": [
        "### Test Example"
      ]
    },
    {
      "cell_type": "code",
      "metadata": {
        "id": "GJe3GWd1O4lc",
        "colab_type": "code",
        "colab": {
          "base_uri": "https://localhost:8080/",
          "height": 34
        },
        "outputId": "9699c21b-5b0d-423e-ca53-f8a1b6369ce4"
      },
      "source": [
        "array = [20,1,-1,2,-2,3,3,5,5,1,2,4,20,4,-1,-2,5]\n",
        "\n",
        "find_it(array)"
      ],
      "execution_count": 12,
      "outputs": [
        {
          "output_type": "execute_result",
          "data": {
            "text/plain": [
              "5"
            ]
          },
          "metadata": {
            "tags": []
          },
          "execution_count": 12
        }
      ]
    },
    {
      "cell_type": "markdown",
      "metadata": {
        "id": "ZZsCg322O91t",
        "colab_type": "text"
      },
      "source": [
        "Completed in 7 minutes"
      ]
    }
  ]
}