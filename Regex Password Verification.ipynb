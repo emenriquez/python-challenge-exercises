{
 "cells": [
  {
   "cell_type": "markdown",
   "metadata": {},
   "source": [
    "# Regex Password Verification\n",
    "\n",
    "### Problem Statement\n",
    "\n",
    "You need to write regex that will validate a password to make sure it meets the following criteria:\n",
    "\n",
    "    At least six characters long\n",
    "    contains a lowercase letter\n",
    "    contains an uppercase letter\n",
    "    contains a number\n",
    "\n",
    "Valid passwords will only be alphanumeric characters."
   ]
  },
  {
   "cell_type": "code",
   "execution_count": 2,
   "metadata": {
    "collapsed": true
   },
   "outputs": [],
   "source": [
    "import re\n",
    "\n",
    "regex = re.compile('^(?=.*?[a-z])(?=.*?[A-Z])(?=.*?\\d)[A-Za-z\\d]{6,}$')"
   ]
  },
  {
   "cell_type": "markdown",
   "metadata": {},
   "source": [
    "A few notes about this dense syntax:\n",
    "    1. Everything within the quotes is a pattern which my regex will describe\n",
    "    2. ^ and $ are used here as 'anchors', which force an exact match of everything in between them and nothing else. This is important because without them this regex will yield true even when special characters are encountered\n",
    "    3. I have 3 sets of expressions with the form (?=.*?[...]) with the following:\n",
    "        i. [a-z] for lowercase characters\n",
    "        ii. [A-Z] for uppercase characters\n",
    "        iii. \\d for digits (i.e. [0-9])\n",
    "    4. (?=...) is a lookahead which will attempt to match the expression it contains\n",
    "    5. \".*?\" is a non-greedy qualifier, which means that it will search for the minimum string length (here being 1 character) that satisfies the set we specify (e.g. [a-z])\n",
    "    6. The expression [A-Za-z\\d]{6,} requires that our pattern satisfies the requirement that it is alphanumeric only and at least 6 characters in length"
   ]
  },
  {
   "cell_type": "markdown",
   "metadata": {},
   "source": [
    "#### Tests"
   ]
  },
  {
   "cell_type": "code",
   "execution_count": 3,
   "metadata": {},
   "outputs": [],
   "source": [
    "from re import search\n",
    "assert(bool(search(regex, 'fjd3IR9')) == True)\n",
    "assert(bool(search(regex, 'ghdfj32')) == False)\n",
    "assert(bool(search(regex, 'dsF43')) == False) \n",
    "assert(bool(search(regex, 'a2.d412')) == False)"
   ]
  }
 ],
 "metadata": {
  "kernelspec": {
   "display_name": "Python 3",
   "language": "python",
   "name": "python3"
  },
  "language_info": {
   "codemirror_mode": {
    "name": "ipython",
    "version": 3
   },
   "file_extension": ".py",
   "mimetype": "text/x-python",
   "name": "python",
   "nbconvert_exporter": "python",
   "pygments_lexer": "ipython3",
   "version": "3.6.2"
  }
 },
 "nbformat": 4,
 "nbformat_minor": 2
}
