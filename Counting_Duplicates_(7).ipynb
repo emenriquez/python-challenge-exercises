{
  "nbformat": 4,
  "nbformat_minor": 0,
  "metadata": {
    "colab": {
      "name": "Counting Duplicates (7).ipynb",
      "provenance": [],
      "collapsed_sections": [],
      "include_colab_link": true
    },
    "kernelspec": {
      "name": "python3",
      "display_name": "Python 3"
    }
  },
  "cells": [
    {
      "cell_type": "markdown",
      "metadata": {
        "id": "view-in-github",
        "colab_type": "text"
      },
      "source": [
        "<a href=\"https://colab.research.google.com/github/emenriquez/python-challenge-exercises/blob/master/Counting_Duplicates_(7).ipynb\" target=\"_parent\"><img src=\"https://colab.research.google.com/assets/colab-badge.svg\" alt=\"Open In Colab\"/></a>"
      ]
    },
    {
      "cell_type": "markdown",
      "metadata": {
        "id": "dFywzgdq-_gn",
        "colab_type": "text"
      },
      "source": [
        "# Counting Duplicates\n",
        "\n",
        "### Count the number of Duplicates\n",
        "Write a function that will return the count of distinct case-insensitive alphabetic characters and numeric digits that occur more than once in the input string. The input string can be assumed to contain only alphabets (both uppercase and lowercase) and numeric digits.\n",
        "\n",
        "###Example\n",
        "```\n",
        "\"abcde\" -> 0 # no characters repeats more than once\n",
        "\"aabbcde\" -> 2 # 'a' and 'b'\n",
        "\"aabBcde\" -> 2 # 'a' occurs twice and 'b' twice (`b` and `B`)\n",
        "\"indivisibility\" -> 1 # 'i' occurs six times\n",
        "\"Indivisibilities\" -> 2 # 'i' occurs seven times and 's' occurs twice\n",
        "\"aA11\" -> 2 # 'a' and '1'\n",
        "\"ABBA\" -> 2 # 'A' and 'B' each occur twice\n",
        "```"
      ]
    },
    {
      "cell_type": "code",
      "metadata": {
        "id": "m-hXLnSY5Rub",
        "colab_type": "code",
        "colab": {}
      },
      "source": [
        "def duplicate_count(text):\n",
        "  # Go through each distinct character in the string, and return True (1) for each character with at least one duplicate\n",
        "  charCount = [True for x in set(text.lower()) if text.lower().count(x) >1]\n",
        "  # Return the total number of times a duplicate was found\n",
        "  return sum(charCount)"
      ],
      "execution_count": 0,
      "outputs": []
    },
    {
      "cell_type": "markdown",
      "metadata": {
        "id": "fOGK0vKw_UCl",
        "colab_type": "text"
      },
      "source": [
        "### Test Example"
      ]
    },
    {
      "cell_type": "code",
      "metadata": {
        "id": "ZSv4kRU1_Wll",
        "colab_type": "code",
        "outputId": "b7d19889-b953-492c-8e3a-167b1eed78b1",
        "colab": {
          "base_uri": "https://localhost:8080/",
          "height": 34
        }
      },
      "source": [
        "example = \"anExample111\"\n",
        "\n",
        "duplicate_count(example)"
      ],
      "execution_count": 0,
      "outputs": [
        {
          "output_type": "execute_result",
          "data": {
            "text/plain": [
              "3"
            ]
          },
          "metadata": {
            "tags": []
          },
          "execution_count": 12
        }
      ]
    },
    {
      "cell_type": "markdown",
      "metadata": {
        "id": "GpqtWaxr_XOt",
        "colab_type": "text"
      },
      "source": [
        "Completed in 5 minutes"
      ]
    }
  ]
}