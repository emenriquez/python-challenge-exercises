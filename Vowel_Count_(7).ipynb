{
  "nbformat": 4,
  "nbformat_minor": 0,
  "metadata": {
    "colab": {
      "name": "Vowel Count (7).ipynb",
      "version": "0.3.2",
      "provenance": [],
      "include_colab_link": true
    },
    "kernelspec": {
      "name": "python3",
      "display_name": "Python 3"
    }
  },
  "cells": [
    {
      "cell_type": "markdown",
      "metadata": {
        "id": "view-in-github",
        "colab_type": "text"
      },
      "source": [
        "<a href=\"https://colab.research.google.com/github/emenriquez/python-challenge-exercises/blob/master/Vowel_Count_(7).ipynb\" target=\"_parent\"><img src=\"https://colab.research.google.com/assets/colab-badge.svg\" alt=\"Open In Colab\"/></a>"
      ]
    },
    {
      "cell_type": "markdown",
      "metadata": {
        "id": "m7ZjxLdxjpTZ",
        "colab_type": "text"
      },
      "source": [
        "# Vowel Count\n",
        "\n",
        "Description:\n",
        "\n",
        "Return the number (count) of vowels in the given string.\n",
        "\n",
        "We will consider `a, e, i, o, and u` as vowels for this Kata.\n",
        "\n",
        "The input string will only consist of lower case letters and/or spaces."
      ]
    },
    {
      "cell_type": "code",
      "metadata": {
        "id": "tzvIXq3Cjqfn",
        "colab_type": "code",
        "colab": {}
      },
      "source": [
        "def getCount(inputStr):\n",
        "  # make a list of 1's for every vowel (a, e, i, o, or u) in the input string\n",
        "  # sum all of the 1's in the list to get a total count of vowels\n",
        "  num_vowels = sum([1 for x in inputStr if x in \"aeiou\"])\n",
        "    \n",
        "\n",
        "    return num_vowels"
      ],
      "execution_count": 0,
      "outputs": []
    },
    {
      "cell_type": "markdown",
      "metadata": {
        "id": "zt64TnsXlgYr",
        "colab_type": "text"
      },
      "source": [
        "### Test Example"
      ]
    },
    {
      "cell_type": "code",
      "metadata": {
        "id": "aPvlJZ5CjmW2",
        "colab_type": "code",
        "colab": {}
      },
      "source": [
        "example = \"this is an example string of only lowercase letters and spaces\""
      ],
      "execution_count": 0,
      "outputs": []
    },
    {
      "cell_type": "code",
      "metadata": {
        "id": "hRJzjEJokkQf",
        "colab_type": "code",
        "colab": {
          "base_uri": "https://localhost:8080/",
          "height": 34
        },
        "outputId": "aef821d1-0069-4fd4-8db8-ea4b0b39ecc2"
      },
      "source": [
        "getCount(example)"
      ],
      "execution_count": 6,
      "outputs": [
        {
          "output_type": "execute_result",
          "data": {
            "text/plain": [
              "18"
            ]
          },
          "metadata": {
            "tags": []
          },
          "execution_count": 6
        }
      ]
    },
    {
      "cell_type": "code",
      "metadata": {
        "id": "HYiPPkzxkmDe",
        "colab_type": "code",
        "colab": {}
      },
      "source": [
        "# Completed in 6 minutes"
      ],
      "execution_count": 0,
      "outputs": []
    }
  ]
}