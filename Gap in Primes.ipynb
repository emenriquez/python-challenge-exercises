{
 "cells": [
  {
   "cell_type": "markdown",
   "metadata": {},
   "source": [
    "# Gap in Primes\n",
    "\n",
    "The prime numbers are not regularly spaced. For example from 2 to 3 the gap is 1. From 3 to 5 the gap is 2. From 7 to 11 it is 4. Between 2 and 50 we have the following pairs of 2-gaps primes: 3-5, 5-7, 11-13, 17-19, 29-31, 41-43\n",
    "\n",
    "A prime gap of length n is a run of n-1 consecutive composite numbers between two successive primes (see: http://mathworld.wolfram.com/PrimeGaps.html).\n",
    "\n",
    "### Problem Statement\n",
    "\n",
    "We will write a function gap with parameters:\n",
    "\n",
    "    g (integer >= 2) which indicates the gap we are looking for\n",
    "\n",
    "    m (integer > 2) which gives the start of the search (m inclusive)\n",
    "\n",
    "    n (integer >= m) which gives the end of the search (n inclusive)\n",
    "\n",
    "In the example above gap(2, 3, 50) will return [3, 5] or (3, 5) or {3, 5} which is the first pair between 3 and 50 with a 2-gap.\n",
    "\n",
    "So this function should return the first pair of two prime numbers spaced with a gap of g between the limits m, n if these numbers exist otherwise nil or null or None or Nothing (depending on the language).\n",
    "\n",
    "Examples:\n",
    "\n",
    "    gap(2, 5, 7) --> [5, 7] or (5, 7) or {5, 7}\n",
    "    gap(2, 5, 5) --> nil. In C++ {0, 0}. In F# [||]\n",
    "    gap(4, 130, 200) --> [163, 167] or (163, 167) or {163, 167}\n",
    "    ([193, 197] is also such a 4-gap primes between 130 and 200 but it's not the first pair)\n",
    "    gap(6,100,110) --> nil or {0, 0} : between 100 and 110 we have 101, 103, 107, 109 but 101-107is not a 6-gap because there is 103 in between and 103-109 is not a 6-gap because there is 107in between."
   ]
  },
  {
   "cell_type": "code",
   "execution_count": 1,
   "metadata": {
    "collapsed": true
   },
   "outputs": [],
   "source": [
    "def gap(g, m, n):\n",
    "    import math\n",
    "    # g is gap\n",
    "    # prime number search is between m and n (inclusive)\n",
    "    primes = []    \n",
    "    \n",
    "    # first look for prime numbers\n",
    "    for number in range(m, n+1):\n",
    "        for divisor in range(2, int(math.sqrt(number))+1):\n",
    "            if number % divisor == 0:\n",
    "                break\n",
    "        else:\n",
    "            primes.append(number)\n",
    "    # once at least 2 prime numbers have been found, start checking the gaps\n",
    "    # if gap is found, stop search and return the last two prime numbers\n",
    "            if len(primes) >= 2:\n",
    "                if primes[-1] - primes[-2] == g:\n",
    "                    return primes[-2:]\n",
    "                    break\n",
    "    else:\n",
    "        return None"
   ]
  },
  {
   "cell_type": "markdown",
   "metadata": {},
   "source": [
    "### Tests"
   ]
  },
  {
   "cell_type": "code",
   "execution_count": 2,
   "metadata": {},
   "outputs": [
    {
     "name": "stdout",
     "output_type": "stream",
     "text": [
      "[5, 7]\n",
      "None\n",
      "[163, 167]\n",
      "None\n"
     ]
    }
   ],
   "source": [
    "print(gap(2, 5, 7))\n",
    "print(gap(2, 5, 5))\n",
    "print(gap(4, 130, 200))\n",
    "print(gap(6, 100, 110))"
   ]
  }
 ],
 "metadata": {
  "kernelspec": {
   "display_name": "Python 3",
   "language": "python",
   "name": "python3"
  },
  "language_info": {
   "codemirror_mode": {
    "name": "ipython",
    "version": 3
   },
   "file_extension": ".py",
   "mimetype": "text/x-python",
   "name": "python",
   "nbconvert_exporter": "python",
   "pygments_lexer": "ipython3",
   "version": "3.6.2"
  }
 },
 "nbformat": 4,
 "nbformat_minor": 2
}
