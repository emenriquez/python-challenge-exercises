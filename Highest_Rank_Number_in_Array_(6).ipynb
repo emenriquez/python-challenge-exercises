{
  "nbformat": 4,
  "nbformat_minor": 0,
  "metadata": {
    "colab": {
      "name": "Highest Rank Number in Array (6).ipynb",
      "version": "0.3.2",
      "provenance": [],
      "collapsed_sections": [],
      "include_colab_link": true
    },
    "kernelspec": {
      "name": "python3",
      "display_name": "Python 3"
    }
  },
  "cells": [
    {
      "cell_type": "markdown",
      "metadata": {
        "id": "view-in-github",
        "colab_type": "text"
      },
      "source": [
        "<a href=\"https://colab.research.google.com/github/emenriquez/python-challenge-exercises/blob/master/Highest_Rank_Number_in_Array_(6).ipynb\" target=\"_parent\"><img src=\"https://colab.research.google.com/assets/colab-badge.svg\" alt=\"Open In Colab\"/></a>"
      ]
    },
    {
      "cell_type": "markdown",
      "metadata": {
        "id": "8znr21lIZbRp",
        "colab_type": "text"
      },
      "source": [
        "# Highest Rank Number in Array\n",
        "\n",
        "Write a method `highestRank(arr)` (or `highest-rank` in clojure) which returns the number which is most frequent in the given input array (or `ISeq`). If there is a tie for most frequent number, return the largest number of which is most frequent.\n",
        "\n",
        "Example:\n",
        "```\n",
        "arr = [12, 10, 8, 12, 7, 6, 4, 10, 12];\n",
        "highestRank(arr) //=> returns 12\n",
        "\n",
        "arr = [12, 10, 8, 12, 7, 6, 4, 10, 12, 10];\n",
        "highestRank(arr) //=> returns 12\n",
        "\n",
        "arr = [12, 10, 8, 8, 3, 3, 3, 3, 2, 4, 10, 12, 10];\n",
        "highestRank(arr) //=> returns 3\n",
        "```"
      ]
    },
    {
      "cell_type": "code",
      "metadata": {
        "id": "iibK-BEaZWA_",
        "colab_type": "code",
        "colab": {}
      },
      "source": [
        "def highest_rank(arr):\n",
        "    # sort the set of values found in the array first by their frequency, then by their descending values\n",
        "    # return the highest ranking value sorted by these conditions\n",
        "    highestRank = max(set(arr), key= lambda x: (arr.count(x), x))\n",
        "    \n",
        "    return highestRank"
      ],
      "execution_count": 0,
      "outputs": []
    },
    {
      "cell_type": "markdown",
      "metadata": {
        "id": "SO1xCv-qfxZp",
        "colab_type": "text"
      },
      "source": [
        "### Test Example"
      ]
    },
    {
      "cell_type": "code",
      "metadata": {
        "id": "GHiYV3ZbaDQ-",
        "colab_type": "code",
        "colab": {}
      },
      "source": [
        "example = [12, 10, 8, 12, 7, 6, 4, 10, 12, 10]"
      ],
      "execution_count": 0,
      "outputs": []
    },
    {
      "cell_type": "code",
      "metadata": {
        "id": "4tyY6SXxbFqx",
        "colab_type": "code",
        "colab": {
          "base_uri": "https://localhost:8080/",
          "height": 34
        },
        "outputId": "8d48a67e-9f7d-4fd7-939e-24d26cfd434a"
      },
      "source": [
        "highest_rank(example)"
      ],
      "execution_count": 24,
      "outputs": [
        {
          "output_type": "execute_result",
          "data": {
            "text/plain": [
              "12"
            ]
          },
          "metadata": {
            "tags": []
          },
          "execution_count": 24
        }
      ]
    },
    {
      "cell_type": "markdown",
      "metadata": {
        "id": "XPb2WfQ2f8HV",
        "colab_type": "text"
      },
      "source": [
        "Completed in 11 Minutes"
      ]
    }
  ]
}