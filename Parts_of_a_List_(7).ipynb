{
  "nbformat": 4,
  "nbformat_minor": 0,
  "metadata": {
    "colab": {
      "name": "Parts of a List (7).ipynb",
      "version": "0.3.2",
      "provenance": [],
      "include_colab_link": true
    },
    "kernelspec": {
      "name": "python3",
      "display_name": "Python 3"
    }
  },
  "cells": [
    {
      "cell_type": "markdown",
      "metadata": {
        "id": "view-in-github",
        "colab_type": "text"
      },
      "source": [
        "<a href=\"https://colab.research.google.com/github/emenriquez/python-challenge-exercises/blob/master/Parts_of_a_List_(7).ipynb\" target=\"_parent\"><img src=\"https://colab.research.google.com/assets/colab-badge.svg\" alt=\"Open In Colab\"/></a>"
      ]
    },
    {
      "cell_type": "code",
      "metadata": {
        "id": "GqLLjT6gKiVa",
        "colab_type": "code",
        "colab": {}
      },
      "source": [
        "example = [\"az\", \"toto\", \"picaro\", \"zone\", \"kiwi\"]"
      ],
      "execution_count": 0,
      "outputs": []
    },
    {
      "cell_type": "code",
      "metadata": {
        "id": "qzDtI65oJlDY",
        "colab_type": "code",
        "colab": {}
      },
      "source": [
        "def partlist(arr):\n",
        "  #find the length of the array\n",
        "  arr_length = len(arr)\n",
        "  \n",
        "  #split the list into 2 parts sequentially throughout the list (without any empty parts)\n",
        "  listTuples = [(' '.join(arr[:x]), ' '.join(arr[x:])) for x in range(1,arr_length)]\n",
        "  \n",
        "  return listTuples"
      ],
      "execution_count": 0,
      "outputs": []
    },
    {
      "cell_type": "code",
      "metadata": {
        "id": "zKqUT30fKfnm",
        "colab_type": "code",
        "colab": {
          "base_uri": "https://localhost:8080/",
          "height": 85
        },
        "outputId": "c0f6d004-b0b4-498a-8604-85f8302bd8f9"
      },
      "source": [
        "partlist(example)"
      ],
      "execution_count": 20,
      "outputs": [
        {
          "output_type": "execute_result",
          "data": {
            "text/plain": [
              "[('az', 'toto picaro zone kiwi'),\n",
              " ('az toto', 'picaro zone kiwi'),\n",
              " ('az toto picaro', 'zone kiwi'),\n",
              " ('az toto picaro zone', 'kiwi')]"
            ]
          },
          "metadata": {
            "tags": []
          },
          "execution_count": 20
        }
      ]
    },
    {
      "cell_type": "code",
      "metadata": {
        "id": "5dMXPe3hKuEz",
        "colab_type": "code",
        "colab": {}
      },
      "source": [
        "# Completed in 14:30"
      ],
      "execution_count": 0,
      "outputs": []
    }
  ]
}