{
  "nbformat": 4,
  "nbformat_minor": 0,
  "metadata": {
    "colab": {
      "name": "Persistent Bugger (6).ipynb",
      "version": "0.3.2",
      "provenance": [],
      "collapsed_sections": [],
      "include_colab_link": true
    },
    "kernelspec": {
      "name": "python3",
      "display_name": "Python 3"
    }
  },
  "cells": [
    {
      "cell_type": "markdown",
      "metadata": {
        "id": "view-in-github",
        "colab_type": "text"
      },
      "source": [
        "<a href=\"https://colab.research.google.com/github/emenriquez/python-challenge-exercises/blob/master/Persistent_Bugger_(6).ipynb\" target=\"_parent\"><img src=\"https://colab.research.google.com/assets/colab-badge.svg\" alt=\"Open In Colab\"/></a>"
      ]
    },
    {
      "cell_type": "markdown",
      "metadata": {
        "id": "cza5bAAoO4I9",
        "colab_type": "text"
      },
      "source": [
        "# Persistent Bugger (Rank 6)\n",
        "\n",
        "Write a function, `persistence`, that takes in a positive parameter `num` and returns its multiplicative persistence, which is the number of times you must multiply the digits in `num` until you reach a single digit.\n",
        "\n",
        "For example:\n",
        "```\n",
        " persistence(39) => 3  # Because 3*9 = 27, 2*7 = 14, 1*4=4\n",
        "                       # and 4 has only one digit.\n",
        "\n",
        " persistence(999) => 4 # Because 9*9*9 = 729, 7*2*9 = 126,\n",
        "                       # 1*2*6 = 12, and finally 1*2 = 2.\n",
        "\n",
        " persistence(4) => 0   # Because 4 is already a one-digit number.\n",
        " ```"
      ]
    },
    {
      "cell_type": "code",
      "metadata": {
        "id": "QpDrZYuPLYE2",
        "colab_type": "code",
        "colab": {}
      },
      "source": [
        "def persistence(n):\n",
        "  # start with a counter value of zero, and count how many times we can iterate between results until only 1 digit is left\n",
        "    counter = 0\n",
        "    while len(str(n)) >1:\n",
        "      # separate digits into list items\n",
        "      separate_chars = [int(x) for x in str(n)]\n",
        "      result = 1\n",
        "      # iterate through list and multiply all list items together\n",
        "      for num in separate_chars:\n",
        "        result *= num\n",
        "      # update our number to our new product\n",
        "      n = result\n",
        "      # increase the counter to reflect 1 iteration through our loop\n",
        "      counter += 1\n",
        "    \n",
        "    return counter"
      ],
      "execution_count": 0,
      "outputs": []
    },
    {
      "cell_type": "markdown",
      "metadata": {
        "id": "IkKF1LRvOwnY",
        "colab_type": "text"
      },
      "source": [
        "### Test Example"
      ]
    },
    {
      "cell_type": "code",
      "metadata": {
        "id": "lNZFkxPtNK4Y",
        "colab_type": "code",
        "colab": {
          "base_uri": "https://localhost:8080/",
          "height": 34
        },
        "outputId": "02d85236-3e18-4cbd-aad0-3b5409fee788"
      },
      "source": [
        "persistence(39)"
      ],
      "execution_count": 11,
      "outputs": [
        {
          "output_type": "execute_result",
          "data": {
            "text/plain": [
              "3"
            ]
          },
          "metadata": {
            "tags": []
          },
          "execution_count": 11
        }
      ]
    },
    {
      "cell_type": "markdown",
      "metadata": {
        "id": "-0VzLbWDPWeR",
        "colab_type": "text"
      },
      "source": [
        "Completed in 13 minutes"
      ]
    }
  ]
}