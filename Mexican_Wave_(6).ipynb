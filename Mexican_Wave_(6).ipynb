{
  "nbformat": 4,
  "nbformat_minor": 0,
  "metadata": {
    "colab": {
      "name": "Mexican Wave (6).ipynb",
      "version": "0.3.2",
      "provenance": [],
      "collapsed_sections": [],
      "include_colab_link": true
    },
    "kernelspec": {
      "name": "python3",
      "display_name": "Python 3"
    }
  },
  "cells": [
    {
      "cell_type": "markdown",
      "metadata": {
        "id": "view-in-github",
        "colab_type": "text"
      },
      "source": [
        "<a href=\"https://colab.research.google.com/github/emenriquez/python-challenge-exercises/blob/master/Mexican_Wave_(6).ipynb\" target=\"_parent\"><img src=\"https://colab.research.google.com/assets/colab-badge.svg\" alt=\"Open In Colab\"/></a>"
      ]
    },
    {
      "cell_type": "markdown",
      "metadata": {
        "id": "zIBUdCQ_XDE8",
        "colab_type": "text"
      },
      "source": [
        "# Mexican Wave\n",
        "\n",
        "###Introduction\n",
        "\n",
        " The wave (known as the Mexican wave in the English-speaking world outside North America) is an example of metachronal rhythm achieved in a packed stadium when successive groups of spectators briefly stand, yell, and raise their arms. Immediately upon stretching to full height, the spectator returns to the usual seated position.\n",
        "  \n",
        "The result is a wave of standing spectators that travels through the crowd, even though individual spectators never move away from their seats. In many large arenas the crowd is seated in a contiguous circuit all the way around the sport field, and so the wave is able to travel continuously around the arena; in discontiguous seating arrangements, the wave can instead reflect back and forth through the crowd. When the gap in seating is narrow, the wave can sometimes pass through it. Usually only one wave crest will be present at any given time in an arena, although simultaneous, counter-rotating waves have been produced. (Source Wikipedia)\n",
        "\n",
        " ### Task\n",
        " In this simple Kata your task is to create a function that turns a string into a Mexican Wave. You will be passed a string and you must return that string in an array where an uppercase letter is a person standing up.\n",
        "\n",
        "### Rules\n",
        "```\n",
        "1.  The input string will always be lower case but maybe empty.\n",
        "2.  If the character in the string is whitespace then pass over it as if it was an empty seat.\n",
        "```\n",
        "\n",
        "### Example\n",
        "\n",
        "`wave(\"hello\") => []string{\"Hello\", \"hEllo\", \"heLlo\", \"helLo\", \"hellO\"}`"
      ]
    },
    {
      "cell_type": "code",
      "metadata": {
        "id": "ZPxSLlnpW-0e",
        "colab_type": "code",
        "colab": {}
      },
      "source": [
        "def wave(str):\n",
        "  # join the input string in two pieces, split by their place in the list (n)\n",
        "  # The first piece is lowercase, the second is capitalized to give the effect of always capitalizing the n-th character in the string\n",
        "  # skip if the string is a space character\n",
        "  return [str[:n]+str[n:].capitalize() for n in range(len(str)) if str[n] != ' ']"
      ],
      "execution_count": 0,
      "outputs": []
    },
    {
      "cell_type": "markdown",
      "metadata": {
        "id": "qhnemO3Ia2Bk",
        "colab_type": "text"
      },
      "source": [
        "### Test Example"
      ]
    },
    {
      "cell_type": "code",
      "metadata": {
        "id": "eTMUdHbhZWi_",
        "colab_type": "code",
        "colab": {
          "base_uri": "https://localhost:8080/",
          "height": 34
        },
        "outputId": "5284bdf1-b53a-4ab6-d60b-913c2385ac26"
      },
      "source": [
        "wave(\"example\")"
      ],
      "execution_count": 6,
      "outputs": [
        {
          "output_type": "execute_result",
          "data": {
            "text/plain": [
              "['Example', 'eXample', 'exAmple', 'exaMple', 'examPle', 'exampLe', 'examplE']"
            ]
          },
          "metadata": {
            "tags": []
          },
          "execution_count": 6
        }
      ]
    },
    {
      "cell_type": "markdown",
      "metadata": {
        "id": "K6UPLWxna51s",
        "colab_type": "text"
      },
      "source": [
        "Completed in 5 minutes"
      ]
    }
  ]
}