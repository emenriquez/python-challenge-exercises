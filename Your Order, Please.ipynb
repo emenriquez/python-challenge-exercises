{
 "cells": [
  {
   "cell_type": "markdown",
   "metadata": {},
   "source": [
    "# Your Order, Please\n",
    "\n",
    "\n",
    "### Problem Statement\n",
    "Your task is to sort a given string. Each word in the String will contain a single number. This number is the position the word should have in the result.\n",
    "\n",
    "Note: Numbers can be from 1 to 9. So 1 will be the first word (not 0).\n",
    "\n",
    "If the input String is empty, return an empty String. The words in the input String will only contain valid consecutive numbers.\n",
    "\n",
    "For an input: \"is2 Thi1s T4est 3a\" the function should return \"Thi1s is2 3a T4est\""
   ]
  },
  {
   "cell_type": "code",
   "execution_count": 2,
   "metadata": {
    "collapsed": true
   },
   "outputs": [],
   "source": [
    "def order(sentence):\n",
    "    # split the string into words in a list\n",
    "    words = sentence.split()\n",
    "\n",
    "    # create an emtpy list for ordered words\n",
    "    ordered = []\n",
    "\n",
    "    # search for each number in the list and when found, add that word to \"ordered\"\n",
    "    t = 0\n",
    "    i = 0\n",
    "    while i in range(len(words)):\n",
    "        if str(i+1) in words[t]:\n",
    "            ordered.append(words[t])\n",
    "            t = 0\n",
    "            i += 1\n",
    "            continue\n",
    "        elif t > 9:\n",
    "            break\n",
    "        else:\n",
    "            t += 1\n",
    "\n",
    "    # combine the list back into a single string once it is ordered\n",
    "    return ' '.join(ordered)"
   ]
  },
  {
   "cell_type": "markdown",
   "metadata": {},
   "source": [
    "### Test"
   ]
  },
  {
   "cell_type": "code",
   "execution_count": 3,
   "metadata": {},
   "outputs": [
    {
     "data": {
      "text/plain": [
       "'Thi1s is2 3a T4est'"
      ]
     },
     "execution_count": 3,
     "metadata": {},
     "output_type": "execute_result"
    }
   ],
   "source": [
    "order(\"is2 Thi1s T4est 3a\")"
   ]
  }
 ],
 "metadata": {
  "kernelspec": {
   "display_name": "Python 3",
   "language": "python",
   "name": "python3"
  },
  "language_info": {
   "codemirror_mode": {
    "name": "ipython",
    "version": 3
   },
   "file_extension": ".py",
   "mimetype": "text/x-python",
   "name": "python",
   "nbconvert_exporter": "python",
   "pygments_lexer": "ipython3",
   "version": "3.6.2"
  }
 },
 "nbformat": 4,
 "nbformat_minor": 2
}
