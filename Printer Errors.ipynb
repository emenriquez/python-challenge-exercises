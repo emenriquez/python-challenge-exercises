{
 "cells": [
  {
   "cell_type": "markdown",
   "metadata": {},
   "source": [
    "In a factory a printer prints labels for boxes. For one kind of boxes the printer has to use colors which, for the sake of simplicity, are named with letters from a to m.\n",
    "\n",
    "The colors used by the printer are recorded in a control string. For example a \"good\" control string would be *aaabbbbhaijjjm* meaning that the printer used three times color a, four times color b, one time color h then one time color a...\n",
    "\n",
    "Sometimes there are problems: lack of colors, technical malfunction and a \"bad\" control string is produced e.g. *aaaxbbbbyyhwawiwjjjwwm*.\n",
    "\n",
    "### Problem Statement\n",
    "\n",
    "You have to write a function 'printer_error' which given a string will output the error rate of the printer as a string representing a rational whose numerator is the number of errors and the denominator the length of the control string. Don't reduce this fraction to a simpler expression.\n",
    "\n",
    "The string has a length greater or equal to one and contains only letters from ato z.\n",
    "\n",
    "#### Examples:\n",
    "\n",
    "    s=\"aaabbbbhaijjjm\"\n",
    "    error_printer(s) => \"0/14\"\n",
    "\n",
    "    s=\"aaaxbbbbyyhwawiwjjjwwm\"\n",
    "    error_printer(s) => \"8/22\""
   ]
  },
  {
   "cell_type": "code",
   "execution_count": null,
   "metadata": {
    "collapsed": true
   },
   "outputs": [],
   "source": [
    "def printer_error(s):\n",
    "    err = 0;\n",
    "    set1 = set(range(ord('a'), ord('m')+1))\n",
    "    for i in range(1, len(s)):\n",
    "        if ord(s[i]) not in set1:\n",
    "            err += 1\n",
    "    return str(err)+\"/\"+str(len(s))"
   ]
  }
 ],
 "metadata": {
  "kernelspec": {
   "display_name": "Python 3",
   "language": "python",
   "name": "python3"
  },
  "language_info": {
   "codemirror_mode": {
    "name": "ipython",
    "version": 3
   },
   "file_extension": ".py",
   "mimetype": "text/x-python",
   "name": "python",
   "nbconvert_exporter": "python",
   "pygments_lexer": "ipython3",
   "version": "3.6.2"
  }
 },
 "nbformat": 4,
 "nbformat_minor": 2
}
